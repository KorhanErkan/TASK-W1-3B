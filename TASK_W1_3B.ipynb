{
  "nbformat": 4,
  "nbformat_minor": 0,
  "metadata": {
    "colab": {
      "provenance": [],
      "collapsed_sections": [],
      "authorship_tag": "ABX9TyNyvbUf6S8sLyOztiQvSAvE",
      "include_colab_link": true
    },
    "kernelspec": {
      "name": "python3",
      "display_name": "Python 3"
    },
    "language_info": {
      "name": "python"
    }
  },
  "cells": [
    {
      "cell_type": "markdown",
      "metadata": {
        "id": "view-in-github",
        "colab_type": "text"
      },
      "source": [
        "<a href=\"https://colab.research.google.com/github/KorhanErkan/TASK-W1-3B/blob/master/TASK_W1_3B.ipynb\" target=\"_parent\"><img src=\"https://colab.research.google.com/assets/colab-badge.svg\" alt=\"Open In Colab\"/></a>"
      ]
    },
    {
      "cell_type": "markdown",
      "source": [
        "TASK-W1-3B: Please write a piece of code to find the names and order no of the presidents with the highest and the lowest heights. \n",
        "\n",
        "\n"
      ],
      "metadata": {
        "id": "q7b92hoJjaLE"
      }
    },
    {
      "cell_type": "code",
      "source": [
        "import numpy as np\n",
        "import pandas as pd\n",
        "data = pd.read_csv('president_heights.csv')\n",
        "heights =pd.read_csv('president_heights.csv')['height(cm)'].values\n",
        "order = pd.read_csv('president_heights.csv')['order'].values\n",
        "name = pd.read_csv('president_heights.csv')['name'].values\n",
        "\n",
        "a = data.loc[data[\"height(cm)\"].idxmax()]\n",
        "b = data.loc[data[\"height(cm)\"].idxmin()]\n",
        "\n",
        "\n",
        "print(a)\n",
        "print(\"///////////////////////////////////////////\")\n",
        "print(b)"
      ],
      "metadata": {
        "colab": {
          "base_uri": "https://localhost:8080/"
        },
        "id": "NGxVZEe8NjI7",
        "outputId": "42604c9b-8eec-46a0-98e4-f13205c66b8a"
      },
      "execution_count": 2,
      "outputs": [
        {
          "output_type": "stream",
          "name": "stdout",
          "text": [
            "order                      16\n",
            "name          Abraham Lincoln\n",
            "height(cm)                193\n",
            "Name: 15, dtype: object\n",
            "///////////////////////////////////////////\n",
            "order                     4\n",
            "name          James Madison\n",
            "height(cm)              163\n",
            "Name: 3, dtype: object\n"
          ]
        }
      ]
    }
  ]
}